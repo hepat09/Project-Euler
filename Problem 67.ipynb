{
 "cells": [
  {
   "cell_type": "code",
   "execution_count": 79,
   "id": "551f3c04",
   "metadata": {},
   "outputs": [
    {
     "name": "stdout",
     "output_type": "stream",
     "text": [
      "Result:  7273  , achieved in  5.80939999781549  ms\n"
     ]
    },
    {
     "name": "stderr",
     "output_type": "stream",
     "text": [
      "C:\\Users\\hegel\\anaconda3\\envs\\tensorflow\\lib\\site-packages\\ipykernel_launcher.py:6: DeprecationWarning: time.clock has been deprecated in Python 3.3 and will be removed from Python 3.8: use time.perf_counter or time.process_time instead\n",
      "  \n",
      "C:\\Users\\hegel\\anaconda3\\envs\\tensorflow\\lib\\site-packages\\ipykernel_launcher.py:15: DeprecationWarning: time.clock has been deprecated in Python 3.3 and will be removed from Python 3.8: use time.perf_counter or time.process_time instead\n",
      "  from ipykernel import kernelapp as app\n"
     ]
    }
   ],
   "source": [
    "import time\n",
    "\n",
    "N = 100\n",
    "max_sum_row = [0 for i in range(N)]\n",
    "\n",
    "start = time.clock()\n",
    "\n",
    "f = open(\"p067_triangle.txt\", \"r\")\n",
    "for x in f:\n",
    "    max_sum_row_tmp = list(max_sum_row)\n",
    "    for i in range(int(len(x)/3)):\n",
    "        z = int((x[3*i]) + (x[3*i+1]))\n",
    "        max_sum_row[i] = max(max_sum_row_tmp[max(0,i-1)], max_sum_row_tmp[i])+z\n",
    "\n",
    "end = time.clock()\n",
    "print(\"Result: \", max(max_sum_row), \" , achieved in \",(end-start)*1000, ' ms')\n",
    "    \n",
    "f.close()"
   ]
  },
  {
   "cell_type": "code",
   "execution_count": null,
   "id": "fe5e0915",
   "metadata": {},
   "outputs": [],
   "source": []
  },
  {
   "cell_type": "code",
   "execution_count": null,
   "id": "d06bc027",
   "metadata": {},
   "outputs": [],
   "source": []
  }
 ],
 "metadata": {
  "kernelspec": {
   "display_name": "Python 3",
   "language": "python",
   "name": "python3"
  },
  "language_info": {
   "codemirror_mode": {
    "name": "ipython",
    "version": 3
   },
   "file_extension": ".py",
   "mimetype": "text/x-python",
   "name": "python",
   "nbconvert_exporter": "python",
   "pygments_lexer": "ipython3",
   "version": "3.7.10"
  }
 },
 "nbformat": 4,
 "nbformat_minor": 5
}
