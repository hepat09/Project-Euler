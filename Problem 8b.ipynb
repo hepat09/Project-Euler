{
 "cells": [
  {
   "cell_type": "code",
   "execution_count": 40,
   "id": "7b3f228b",
   "metadata": {},
   "outputs": [
    {
     "name": "stdout",
     "output_type": "stream",
     "text": [
      "23514624000.0\n"
     ]
    }
   ],
   "source": [
    "import numpy as np\n",
    "\n",
    "input_str = \"7316717653133062491922511967442657474235534919493496983520312774506326239578318016984801869478851843858615607891129494954595017379583319528532088055111254069874715852386305071569329096329522744304355766896648950445244523161731856403098711121722383113622298934233803081353362766142828064444866452387493035890729629049156044077239071381051585930796086670172427121883998797908792274921901699720888093776657273330010533678812202354218097512545405947522435258490771167055601360483958644670632441572215539753697817977846174064955149290862569321978468622482839722413756570560574902614079729686524145351004748216637048440319989000889524345065854122758866688116427171479924442928230863465674813919123162824586178664583591245665294765456828489128831426076900422421902267105562632111110937054421750694165896040807198403850962455444362981230987879927244284909188845801561660979191338754992005240636899125607176060588611646710940507754100225698315520005593572972571636269561882670428252483600823257530420752963450\"\n",
    "\n",
    "max_prod = 7*3*1*6*7*1*7*6*5*3*1*3*3\n",
    "last_figs = [7,3,1,6,7,1,7,6,5,3,1,3,3]\n",
    "prod_since_last_zero = max_prod\n",
    "last_zero_step = 14\n",
    "act_prod = max_prod\n",
    "\n",
    "for j in range(13,len(input_str)):\n",
    "    i = int(input_str[j])\n",
    "    if i == 0:\n",
    "        prod_since_last_zero = 1\n",
    "        last_zero_step = 1\n",
    "        last_figs = list(last_figs[-12:])\n",
    "        last_figs.append(0)\n",
    "        act_prod = 1\n",
    "    else:\n",
    "        prod_since_last_zero = prod_since_last_zero *i\n",
    "        last_zero_step += 1\n",
    "        last_fig = last_figs[0]\n",
    "        last_figs = list(last_figs[-12:])\n",
    "        last_figs.append(i)\n",
    "        if last_zero_step > 13:\n",
    "            if last_fig != 0:\n",
    "                act_prod = act_prod * i / last_fig\n",
    "            else:\n",
    "                act_prod = prod_since_last_zero\n",
    "            max_prod = max(act_prod, max_prod)\n",
    "        else:\n",
    "            act_prod = prod_since_last_zero\n",
    "            \n",
    "\n",
    "print(max_prod)\n",
    "    \n",
    "    "
   ]
  },
  {
   "cell_type": "code",
   "execution_count": null,
   "id": "690abb2c",
   "metadata": {},
   "outputs": [],
   "source": []
  }
 ],
 "metadata": {
  "kernelspec": {
   "display_name": "Python 3",
   "language": "python",
   "name": "python3"
  },
  "language_info": {
   "codemirror_mode": {
    "name": "ipython",
    "version": 3
   },
   "file_extension": ".py",
   "mimetype": "text/x-python",
   "name": "python",
   "nbconvert_exporter": "python",
   "pygments_lexer": "ipython3",
   "version": "3.7.10"
  }
 },
 "nbformat": 4,
 "nbformat_minor": 5
}
