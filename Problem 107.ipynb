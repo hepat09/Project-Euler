{
 "cells": [
  {
   "cell_type": "code",
   "execution_count": 70,
   "id": "2abcc5b1",
   "metadata": {},
   "outputs": [],
   "source": [
    "import math\n",
    "import pandas as pd\n",
    "import numpy as np"
   ]
  },
  {
   "cell_type": "code",
   "execution_count": 101,
   "id": "09c09d0f",
   "metadata": {},
   "outputs": [],
   "source": [
    "file = pd.read_csv(r\"C:\\Users\\hegel\\Documents\\Project Euler\\p107_network.txt\", sep=',', header=None)\n",
    "network = np.array(file)"
   ]
  },
  {
   "cell_type": "code",
   "execution_count": 102,
   "id": "312e8a53",
   "metadata": {},
   "outputs": [],
   "source": [
    "# find minimal edge indices\n",
    "\n",
    "def min_new_edge_indices(G):\n",
    "    min_i = 0\n",
    "    min_j = 0\n",
    "    z = 0\n",
    "    if G[min_i][min_j]==\"-\":\n",
    "        z = 9999999\n",
    "    else:\n",
    "        z = G[min_i][min_j]\n",
    "\n",
    "    size = len(G)\n",
    "    \n",
    "    for i in range(size):\n",
    "        if i in reached_nodes or reached_nodes == []:\n",
    "            for j in range(size):\n",
    "                if j in unreached_nodes and G[i][j]!=\"-\":\n",
    "                    if int(G[i][j]) < z:    \n",
    "                        min_i = i\n",
    "                        min_j = j\n",
    "                        z=int(G[i][j])\n",
    "    return(min_i,min_j,z)\n",
    "    "
   ]
  },
  {
   "cell_type": "code",
   "execution_count": 106,
   "id": "2b60c32b",
   "metadata": {},
   "outputs": [
    {
     "data": {
      "text/plain": [
       "2153"
      ]
     },
     "execution_count": 106,
     "metadata": {},
     "output_type": "execute_result"
    }
   ],
   "source": [
    "unreached_nodes = list(range(len(network)))\n",
    "reached_nodes = []\n",
    "sum_weights = 0\n",
    "\n",
    "while unreached_nodes != []:\n",
    "    coords = min_new_edge_indices(network)\n",
    "    #print(coords)\n",
    "    if reached_nodes == []:\n",
    "        reached_nodes.append(coords[0])\n",
    "        unreached_nodes.remove(coords[0])\n",
    "    reached_nodes.append(coords[1])\n",
    "    unreached_nodes.remove(coords[1])\n",
    "    sum_weights = sum_weights + coords[2]\n",
    "\n",
    "sum_weights"
   ]
  },
  {
   "cell_type": "code",
   "execution_count": 105,
   "id": "31239816",
   "metadata": {},
   "outputs": [
    {
     "data": {
      "text/plain": [
       "259679"
      ]
     },
     "execution_count": 105,
     "metadata": {},
     "output_type": "execute_result"
    }
   ],
   "source": [
    "sum_weights_total = 0\n",
    "for i in range(len(network)):\n",
    "    for j in range(len(network)):\n",
    "        if network[i][j] != \"-\" and i>=j:\n",
    "            sum_weights_total = sum_weights_total + int(network[i][j])\n",
    "\n",
    "maximum_saving = sum_weights_total - sum_weights\n",
    "\n",
    "maximum_saving"
   ]
  },
  {
   "cell_type": "code",
   "execution_count": null,
   "id": "0bd4f435",
   "metadata": {},
   "outputs": [],
   "source": []
  }
 ],
 "metadata": {
  "kernelspec": {
   "display_name": "Python 3",
   "language": "python",
   "name": "python3"
  },
  "language_info": {
   "codemirror_mode": {
    "name": "ipython",
    "version": 3
   },
   "file_extension": ".py",
   "mimetype": "text/x-python",
   "name": "python",
   "nbconvert_exporter": "python",
   "pygments_lexer": "ipython3",
   "version": "3.7.10"
  }
 },
 "nbformat": 4,
 "nbformat_minor": 5
}
