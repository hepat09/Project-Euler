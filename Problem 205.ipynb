{
 "cells": [
  {
   "cell_type": "code",
   "execution_count": 15,
   "id": "12c624c4",
   "metadata": {},
   "outputs": [],
   "source": [
    "# \"brute force\"\n",
    "\n",
    "import numpy as np\n",
    "from itertools import product\n",
    "import time"
   ]
  },
  {
   "cell_type": "code",
   "execution_count": 13,
   "id": "2f19ea0e",
   "metadata": {},
   "outputs": [
    {
     "name": "stdout",
     "output_type": "stream",
     "text": [
      "115.75649999997495 ms\n",
      "0.5731440767829802\n"
     ]
    },
    {
     "name": "stderr",
     "output_type": "stream",
     "text": [
      "C:\\Users\\hegel\\anaconda3\\envs\\tensorflow\\lib\\site-packages\\ipykernel_launcher.py:1: DeprecationWarning: time.clock has been deprecated in Python 3.3 and will be removed from Python 3.8: use time.perf_counter or time.process_time instead\n",
      "  \"\"\"Entry point for launching an IPython kernel.\n",
      "C:\\Users\\hegel\\anaconda3\\envs\\tensorflow\\lib\\site-packages\\ipykernel_launcher.py:33: DeprecationWarning: time.clock has been deprecated in Python 3.3 and will be removed from Python 3.8: use time.perf_counter or time.process_time instead\n"
     ]
    }
   ],
   "source": [
    "start = time.clock()\n",
    "\n",
    "P = [0 for i in range(36)]\n",
    "C = [0 for i in range(36)]\n",
    "\n",
    "for i1 in [1,2,3,4]:\n",
    "    for i2 in [1,2,3,4]:\n",
    "        for i3 in [1,2,3,4]:\n",
    "            for i4 in [1,2,3,4]:\n",
    "                for i5 in [1,2,3,4]:\n",
    "                    for i6 in [1,2,3,4]:\n",
    "                        for i7 in [1,2,3,4]:\n",
    "                            for i8 in [1,2,3,4]:\n",
    "                                for i9 in [1,2,3,4]:\n",
    "                                    j=i1+i2+i3+i4+i5+i6+i7+i8+i9-1\n",
    "                                    P[j]=P[j]+1\n",
    "                                    \n",
    "for i1 in [1,2,3,4,5,6]:\n",
    "    for i2 in [1,2,3,4,5,6]:\n",
    "        for i3 in [1,2,3,4,5,6]:\n",
    "            for i4 in [1,2,3,4,5,6]:\n",
    "                for i5 in [1,2,3,4,5,6]:\n",
    "                    for i6 in [1,2,3,4,5,6]:\n",
    "                        j=i1+i2+i3+i4+i5+i6-1\n",
    "                        C[j]=C[j]+1\n",
    "                                    \n",
    "C_cum = list(np.cumsum(C))\n",
    "\n",
    "prob = 0\n",
    "for i in range(1,len(P)):\n",
    "    prob = prob + P[i]/sum(P)*C_cum[i-1]/C_cum[-1]\n",
    "    \n",
    "end = time.clock()\n",
    "\n",
    "print((end-start)*1000, 'ms')\n",
    "print(prob)\n",
    "    "
   ]
  },
  {
   "cell_type": "code",
   "execution_count": 14,
   "id": "c8ccdeea",
   "metadata": {},
   "outputs": [
    {
     "name": "stdout",
     "output_type": "stream",
     "text": [
      "89.4193000000314 ms\n",
      "0.5731440767829802\n"
     ]
    },
    {
     "name": "stderr",
     "output_type": "stream",
     "text": [
      "C:\\Users\\hegel\\anaconda3\\envs\\tensorflow\\lib\\site-packages\\ipykernel_launcher.py:1: DeprecationWarning: time.clock has been deprecated in Python 3.3 and will be removed from Python 3.8: use time.perf_counter or time.process_time instead\n",
      "  \"\"\"Entry point for launching an IPython kernel.\n",
      "C:\\Users\\hegel\\anaconda3\\envs\\tensorflow\\lib\\site-packages\\ipykernel_launcher.py:17: DeprecationWarning: time.clock has been deprecated in Python 3.3 and will be removed from Python 3.8: use time.perf_counter or time.process_time instead\n"
     ]
    }
   ],
   "source": [
    "start = time.clock()\n",
    "\n",
    "P = [0 for i in range(36)]\n",
    "C = [0 for i in range(36)]\n",
    "\n",
    "for r in product([1,2,3,4], repeat = 9):\n",
    "    P[sum(r)-1] += 1\n",
    "\n",
    "for r in product([1,2,3,4,5,6], repeat = 6):\n",
    "    C[sum(r)-1] += 1\n",
    "                                    \n",
    "C_cum = list(np.cumsum(C))\n",
    "prob = 0\n",
    "for i in range(1,len(P)):\n",
    "    prob = prob + P[i]/sum(P)*C_cum[i-1]/C_cum[-1]\n",
    "    \n",
    "end = time.clock()\n",
    "\n",
    "print((end-start)*1000, 'ms')\n",
    "print(prob)\n",
    "    "
   ]
  },
  {
   "cell_type": "code",
   "execution_count": null,
   "id": "1d955936",
   "metadata": {},
   "outputs": [],
   "source": []
  },
  {
   "cell_type": "code",
   "execution_count": null,
   "id": "9ce60fb9",
   "metadata": {},
   "outputs": [],
   "source": []
  }
 ],
 "metadata": {
  "kernelspec": {
   "display_name": "Python 3",
   "language": "python",
   "name": "python3"
  },
  "language_info": {
   "codemirror_mode": {
    "name": "ipython",
    "version": 3
   },
   "file_extension": ".py",
   "mimetype": "text/x-python",
   "name": "python",
   "nbconvert_exporter": "python",
   "pygments_lexer": "ipython3",
   "version": "3.7.10"
  }
 },
 "nbformat": 4,
 "nbformat_minor": 5
}
