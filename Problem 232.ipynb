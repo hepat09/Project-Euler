{
 "cells": [
  {
   "cell_type": "code",
   "execution_count": 1,
   "id": "f767af2d",
   "metadata": {},
   "outputs": [],
   "source": [
    "import numpy as np\n",
    "import math"
   ]
  },
  {
   "cell_type": "code",
   "execution_count": 95,
   "id": "515277b1",
   "metadata": {},
   "outputs": [
    {
     "name": "stdout",
     "output_type": "stream",
     "text": [
      "0.8364855558469472\n"
     ]
    }
   ],
   "source": [
    "# recursively, points to play\n",
    "# A: 1 coin\n",
    "# B: T coin\n",
    "# T[i][j] = P(A wins | A has to reach i+1 points til 100, B has to reach j+1 points til 100, T's turn)\n",
    "\n",
    "def solve_prob_A1(T, p, H):\n",
    "    z = 1\n",
    "    if(2**(T-1) < p):\n",
    "        z = 0.5 * H[0][p-2**(T-1)-1]\n",
    "    return  float(z/(2**T) ) /(1- float(2**T-1)/(2**T) * 0.5)\n",
    "\n",
    "def solve_prob_B1(p, H):\n",
    "    if(p==1):\n",
    "        return 2.0/3\n",
    "    else:\n",
    "        return (0.5 + 0.25 * H[p-2][0])/0.75\n",
    "    \n",
    "def solve_prob(T, p1, p2, H):\n",
    "    if(p1==1):\n",
    "        return solve_prob_B1(p2,H)\n",
    "    if(p2==1):\n",
    "        return solve_prob_A1(T,p1,H)\n",
    "    else:\n",
    "        z=1\n",
    "        if(2**(T-1) < p2):\n",
    "            z = 0.5 * (H[p1-1][p2-2**(T-1)-1] + H[p1-2][p2-2**(T-1)-1])\n",
    "        return  (float(z/(2**T)) + float(2**T-1)/(2**T)* 0.5 * H[p1-2][p2-1])/(1- float(2**T-1)/(2**T) * 0.5)\n",
    "\n",
    "\n",
    "def find_maxprob_A1(p,H):\n",
    "    max_ind = -1\n",
    "    max_value = -1\n",
    "    for s in range(1,math.floor(math.log2(p)+3)):\n",
    "        val = solve_prob_A1(s,p,H)\n",
    "        if(val > max_value):\n",
    "            max_ind = s\n",
    "            max_value = val\n",
    "    return max_value\n",
    "\n",
    "def find_maxprob(p1, p2, H):\n",
    "    max_ind = -1\n",
    "    max_value = -1\n",
    "    for s in range(1,math.floor(math.log2(p2)+3)):\n",
    "        val = solve_prob(s, p1, p2, H)\n",
    "        if(val > max_value):\n",
    "            max_ind = s\n",
    "            max_value = val\n",
    "    return max_value\n",
    "\n",
    "\n",
    "H = [[0 for i in range(100)] for j in range(100)]\n",
    "H[0][0] = 2.0/3\n",
    "\n",
    "for j in range(1,100):\n",
    "    H[0][j] = find_maxprob_A1(j+1, H)\n",
    "    \n",
    "for i in range(1,100):\n",
    "    H[i][0] = solve_prob_B1(i+1, H)\n",
    "    \n",
    "    \n",
    "for i in range(1,100):\n",
    "    for j in range(1,100):\n",
    "        H[i][j] = find_maxprob(i+1,j+1,H)\n",
    "        \n",
    "        \n",
    "\n",
    "print(0.5*H[99][99]+0.5*H[98][99])\n"
   ]
  },
  {
   "cell_type": "code",
   "execution_count": null,
   "id": "bebb49c1",
   "metadata": {},
   "outputs": [],
   "source": [
    "\n"
   ]
  },
  {
   "cell_type": "code",
   "execution_count": null,
   "id": "b9d47c18",
   "metadata": {},
   "outputs": [],
   "source": [
    "\n"
   ]
  },
  {
   "cell_type": "code",
   "execution_count": null,
   "id": "44e2b678",
   "metadata": {},
   "outputs": [],
   "source": []
  }
 ],
 "metadata": {
  "kernelspec": {
   "display_name": "Python 3",
   "language": "python",
   "name": "python3"
  },
  "language_info": {
   "codemirror_mode": {
    "name": "ipython",
    "version": 3
   },
   "file_extension": ".py",
   "mimetype": "text/x-python",
   "name": "python",
   "nbconvert_exporter": "python",
   "pygments_lexer": "ipython3",
   "version": "3.7.10"
  }
 },
 "nbformat": 4,
 "nbformat_minor": 5
}
