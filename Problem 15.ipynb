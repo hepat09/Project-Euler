{
 "cells": [
  {
   "cell_type": "code",
   "execution_count": null,
   "id": "88e84f6c",
   "metadata": {},
   "outputs": [],
   "source": [
    "# dynamic programming\n",
    "\n",
    "# D[i,j] = #ways to i th line j th column\n",
    "# D[1,1] = 1\n",
    "# D[i,j] = D[i-1,j] + D[i,j-1]\n",
    "# D[i,j] = D[j,i]\n",
    "\n"
   ]
  },
  {
   "cell_type": "code",
   "execution_count": 4,
   "id": "43495601",
   "metadata": {},
   "outputs": [
    {
     "name": "stdout",
     "output_type": "stream",
     "text": [
      "137846528820\n"
     ]
    }
   ],
   "source": [
    "D = [[0 for j in range(21)] for i in range(21)]\n",
    "\n",
    "for i in range(21):\n",
    "    for j in range(21):\n",
    "        if i == 0:\n",
    "            if j == 0: \n",
    "                D[i][j] = 1\n",
    "            else:\n",
    "                D[i][j] = D[i][j-1]\n",
    "        elif j == 0:\n",
    "            D[i][j] = D[i-1][j]\n",
    "        else:\n",
    "            D[i][j] = D[i-1][j] + D[i][j-1]\n",
    "\n",
    "print(D[20][20])\n",
    "        "
   ]
  },
  {
   "cell_type": "code",
   "execution_count": 15,
   "id": "551084a5",
   "metadata": {},
   "outputs": [
    {
     "name": "stdout",
     "output_type": "stream",
     "text": [
      "137846528820\n"
     ]
    }
   ],
   "source": [
    "import itertools\n",
    "\n",
    "D = [[1 for j in range(21)] for i in range(21)]\n",
    "\n",
    "for i, j in itertools.product(range(1,21), range(1,21)):\n",
    "    if(i<=j):\n",
    "        D[i][j] = D[i-1][j] + D[i][j-1]\n",
    "        D[j][i] = D[i-1][j] + D[i][j-1]\n",
    "\n",
    "print(D[20][20])"
   ]
  },
  {
   "cell_type": "code",
   "execution_count": null,
   "id": "faa1107c",
   "metadata": {},
   "outputs": [],
   "source": []
  }
 ],
 "metadata": {
  "kernelspec": {
   "display_name": "Python 3",
   "language": "python",
   "name": "python3"
  },
  "language_info": {
   "codemirror_mode": {
    "name": "ipython",
    "version": 3
   },
   "file_extension": ".py",
   "mimetype": "text/x-python",
   "name": "python",
   "nbconvert_exporter": "python",
   "pygments_lexer": "ipython3",
   "version": "3.7.10"
  }
 },
 "nbformat": 4,
 "nbformat_minor": 5
}
