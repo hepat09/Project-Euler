{
 "cells": [
  {
   "cell_type": "code",
   "execution_count": 120,
   "id": "860b7d0a",
   "metadata": {},
   "outputs": [
    {
     "name": "stdout",
     "output_type": "stream",
     "text": [
      "19708\n"
     ]
    }
   ],
   "source": [
    "#FOR SMALL N-s\n",
    "\n",
    "N = 500\n",
    "\n",
    "winners = [[] for i in range(N)]  #collect all winning numbers for each n -->it will be slow but good for small Ns\n",
    "winners[0] = [1]\n",
    "winners[3] = [1]\n",
    "winners[4] = []\n",
    "winners[5] = [1]\n",
    "winners[6] = [2]\n",
    "    \n",
    "for n_ in range(7,N):\n",
    "    n = n_ + 1\n",
    "    for k in range(1,int((n+2)/2)):\n",
    "        if 2*k < n-k:\n",
    "            if (len(winners[n-k-1]) > 0):\n",
    "                if(winners[n-k-1][0] > 2*k):\n",
    "                    winners[n_].append(k)\n",
    "            else:\n",
    "                winners[n_].append(k)\n",
    "\n",
    "S = -1 # compensate n = 1 you can't take the whole pile :)\n",
    "for l in winners:\n",
    "    if len(l) > 0:\n",
    "        S += max(l)\n",
    "print(S)"
   ]
  },
  {
   "cell_type": "code",
   "execution_count": 127,
   "id": "f9d0b691",
   "metadata": {},
   "outputs": [
    {
     "name": "stdout",
     "output_type": "stream",
     "text": [
      "19708.0\n",
      "19708\n"
     ]
    }
   ],
   "source": [
    "#FOR SMALL N-s DUE TO INTEGER MULTIPLICATION PROBLEM\n",
    "\n",
    "def sum_from_fib(n, fib_list):\n",
    "    last_fib = fib_below_n(n, fib_list)\n",
    "    h = int((last_fib-0.1)/2)\n",
    "    #print(\"h: \", h)\n",
    "    sum_out = ((h%(10**8))*((h+1)%(10**8)%(10**8)))/2\n",
    "    m = n - last_fib\n",
    "    sum_in = ((m%(10**8))*((m+1)%(10**8)%(10**8)))/2\n",
    "    sum_rest = 0\n",
    "    if h > 2:\n",
    "        fib_below_h = fib_below_n(h, fib_list)\n",
    "        sum_rest = sum_from_fib(h, fib_list)\n",
    "    #print(\"sum_out: \", sum_out, \"sum_in: \", sum_in, \"sum_rest: \", sum_rest)\n",
    "    return sum_out - sum_in + sum_rest\n",
    "\n",
    "def fib_below_n(n, fib_list):\n",
    "    reversed_fib_list = reversed(fib_list)\n",
    "    for fib in reversed_fib_list:\n",
    "        if fib <= n:\n",
    "            return fib\n",
    "    print(\"no smaller fibonacci numbers than \", n)\n",
    "    return \"error\"\n",
    "\n",
    "#print(fib_below_n(200000, fib_list))\n",
    "#sum_from_fib(1, fib_list)\n",
    "\n",
    "N = 500\n",
    "\n",
    "fib = [1,2]\n",
    "fib_list = [1]\n",
    "cnt_rounds = 1\n",
    "while fib[1] <= N:\n",
    "    cnt_rounds += 1\n",
    "    tmp = fib[0]\n",
    "    fib_list.append(fib[1])\n",
    "    fib[0] = fib[1]\n",
    "    fib[1] = tmp + fib[0]\n",
    "    \n",
    "S = 0\n",
    "for fib in fib_list[2:-1]:\n",
    "    h =  int((fib-0.1)/2)\n",
    "    S = (S + ((h%(10**8))*((h+1)%(10**8)%(10**8)))/2)%(10**8)\n",
    "    #highest_fib = fib_below_n(h)\n",
    "    S = (S + sum_from_fib(h, fib_list))%(10**8)\n",
    "S = S + ((((N-fib_list[-1])%(10**8))*(((N-fib_list[-1])+1)%(10**8))%(10**8))/2)%(10**8)\n",
    "print(S)\n",
    "\n",
    "sz = -1 # compensate n = 1 you can't take the whole pile :)\n",
    "for l in winners[:N]:\n",
    "    if len(l) > 0:\n",
    "        sz += max(l)\n",
    "print(sz)\n"
   ]
  },
  {
   "cell_type": "code",
   "execution_count": 178,
   "id": "9efe554f",
   "metadata": {},
   "outputs": [
    {
     "name": "stdout",
     "output_type": "stream",
     "text": [
      "88351299\n"
     ]
    }
   ],
   "source": [
    "# SOLUTION - however cleaning might be advised\n",
    "\n",
    "import decimal\n",
    "decimal.getcontext().prec = 300\n",
    "\n",
    "def sum_from_fib(n, fib_list):\n",
    "    last_fib = fib_below_n(n, fib_list)\n",
    "    h = decimal.Decimal(math.floor((last_fib-decimal.Decimal(0.1))/decimal.Decimal(2)))\n",
    "    sum_out = decimal.Decimal(h) * decimal.Decimal(h+1) / decimal.Decimal(2)\n",
    "    m = decimal.Decimal(n) - decimal.Decimal(last_fib)\n",
    "    sum_in = decimal.Decimal(m) * decimal.Decimal(m+1) / decimal.Decimal(2)\n",
    "    sum_rest = decimal.Decimal(0)\n",
    "    if h > 2:\n",
    "        fib_below_h = fib_below_n(h, fib_list)\n",
    "        sum_rest = sum_from_fib(h, fib_list)\n",
    "    return decimal.Decimal(sum_out) - decimal.Decimal(sum_in) + decimal.Decimal(sum_rest)\n",
    "\n",
    "def fib_below_n(n, fib_list):\n",
    "    reversed_fib_list = reversed(fib_list)\n",
    "    for fib in reversed_fib_list:\n",
    "        if fib <= n:\n",
    "            return decimal.Decimal(fib)\n",
    "    print(\"no smaller fibonacci numbers than \", n)\n",
    "    return \"error\"\n",
    "\n",
    "N = decimal.Decimal(10**18)\n",
    "\n",
    "fib = [decimal.Decimal(1),decimal.Decimal(2)]\n",
    "fib_list = [decimal.Decimal(1)]\n",
    "cnt_rounds = 1\n",
    "while fib[1] <= decimal.Decimal(N):\n",
    "    cnt_rounds += 1\n",
    "    tmp = fib[0]\n",
    "    fib_list.append(fib[1])\n",
    "    fib[0] = fib[1]\n",
    "    fib[1] = tmp + fib[0]\n",
    "    \n",
    "S = decimal.Decimal(0)\n",
    "for fib in fib_list[2:-1]:\n",
    "    h = decimal.Decimal(math.floor((fib-decimal.Decimal(0.1))/decimal.Decimal(2)))\n",
    "    S = S + decimal.Decimal(h) * decimal.Decimal(h+1) / decimal.Decimal(2)\n",
    "    S = decimal.Decimal(S) + decimal.Decimal(sum_from_fib(h, fib_list))\n",
    "S = S + decimal.Decimal(N-fib_list[-1]) * decimal.Decimal(N-fib_list[-1]+1) / decimal.Decimal(2)\n",
    "\n",
    "\n",
    "print(S%10**8)\n",
    "\n"
   ]
  },
  {
   "cell_type": "code",
   "execution_count": null,
   "id": "341233a9",
   "metadata": {},
   "outputs": [],
   "source": []
  }
 ],
 "metadata": {
  "kernelspec": {
   "display_name": "Python 3",
   "language": "python",
   "name": "python3"
  },
  "language_info": {
   "codemirror_mode": {
    "name": "ipython",
    "version": 3
   },
   "file_extension": ".py",
   "mimetype": "text/x-python",
   "name": "python",
   "nbconvert_exporter": "python",
   "pygments_lexer": "ipython3",
   "version": "3.7.10"
  }
 },
 "nbformat": 4,
 "nbformat_minor": 5
}
