{
 "cells": [
  {
   "cell_type": "code",
   "execution_count": 2,
   "id": "60f60498",
   "metadata": {},
   "outputs": [
    {
     "name": "stdout",
     "output_type": "stream",
     "text": [
      "4613732\n"
     ]
    }
   ],
   "source": [
    "gen_list = [1,1]\n",
    "s = 0\n",
    "\n",
    "while gen_list[1] < 4000000:\n",
    "    new = sum(gen_list)\n",
    "    gen_list[0] = gen_list[1]\n",
    "    gen_list[1] = new\n",
    "    if(new%2 == 0):\n",
    "        s += new\n",
    "print(s)"
   ]
  },
  {
   "cell_type": "code",
   "execution_count": null,
   "id": "f6c7c4f5",
   "metadata": {},
   "outputs": [],
   "source": []
  }
 ],
 "metadata": {
  "kernelspec": {
   "display_name": "Python 3",
   "language": "python",
   "name": "python3"
  },
  "language_info": {
   "codemirror_mode": {
    "name": "ipython",
    "version": 3
   },
   "file_extension": ".py",
   "mimetype": "text/x-python",
   "name": "python",
   "nbconvert_exporter": "python",
   "pygments_lexer": "ipython3",
   "version": "3.7.10"
  }
 },
 "nbformat": 4,
 "nbformat_minor": 5
}
