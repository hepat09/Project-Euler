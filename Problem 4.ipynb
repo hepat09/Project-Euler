{
 "cells": [
  {
   "cell_type": "code",
   "execution_count": 9,
   "id": "a460e929",
   "metadata": {},
   "outputs": [
    {
     "data": {
      "text/plain": [
       "906609"
      ]
     },
     "execution_count": 9,
     "metadata": {},
     "output_type": "execute_result"
    }
   ],
   "source": [
    "def is_palindrom(n):\n",
    "    n_str = str(n)\n",
    "    for i in range(int(len(n_str)/2)):\n",
    "        if(n_str[i] != n_str[0-i-1]):\n",
    "            return False\n",
    "    return True\n",
    "    \n",
    "max_pali = 0\n",
    "for i in range(100,1000):\n",
    "    for j in range(100,1000):\n",
    "        if max_pali < i*j and is_palindrom(i*j):\n",
    "            max_pali = i*j\n",
    "            \n",
    "max_pali"
   ]
  },
  {
   "cell_type": "code",
   "execution_count": null,
   "id": "5b00c1dd",
   "metadata": {},
   "outputs": [],
   "source": [
    "\n"
   ]
  }
 ],
 "metadata": {
  "kernelspec": {
   "display_name": "Python 3",
   "language": "python",
   "name": "python3"
  },
  "language_info": {
   "codemirror_mode": {
    "name": "ipython",
    "version": 3
   },
   "file_extension": ".py",
   "mimetype": "text/x-python",
   "name": "python",
   "nbconvert_exporter": "python",
   "pygments_lexer": "ipython3",
   "version": "3.7.10"
  }
 },
 "nbformat": 4,
 "nbformat_minor": 5
}
