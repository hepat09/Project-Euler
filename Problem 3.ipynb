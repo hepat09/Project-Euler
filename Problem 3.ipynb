{
 "cells": [
  {
   "cell_type": "code",
   "execution_count": 17,
   "id": "2da92a60",
   "metadata": {},
   "outputs": [
    {
     "name": "stdout",
     "output_type": "stream",
     "text": [
      "6857\n"
     ]
    }
   ],
   "source": [
    "import math\n",
    "\n",
    "def prime_check(div_list, n):\n",
    "    for d in div_list:\n",
    "        if(n % d ==0):\n",
    "            return False\n",
    "    return True\n",
    "        \n",
    "\n",
    "limit = math.sqrt(600851475143)\n",
    "\n",
    "div_primes = []\n",
    "act_f = 4\n",
    "\n",
    "while(act_f <= limit):\n",
    "    act_f += 1\n",
    "    if 600851475143 % act_f == 0 and prime_check(div_primes, act_f):\n",
    "        div_primes.append(act_f)\n",
    "\n",
    "print(max(div_primes))"
   ]
  },
  {
   "cell_type": "code",
   "execution_count": null,
   "id": "9d7da979",
   "metadata": {},
   "outputs": [],
   "source": []
  }
 ],
 "metadata": {
  "kernelspec": {
   "display_name": "Python 3",
   "language": "python",
   "name": "python3"
  },
  "language_info": {
   "codemirror_mode": {
    "name": "ipython",
    "version": 3
   },
   "file_extension": ".py",
   "mimetype": "text/x-python",
   "name": "python",
   "nbconvert_exporter": "python",
   "pygments_lexer": "ipython3",
   "version": "3.7.10"
  }
 },
 "nbformat": 4,
 "nbformat_minor": 5
}
