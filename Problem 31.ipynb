{
 "cells": [
  {
   "cell_type": "code",
   "execution_count": null,
   "id": "d5eb9969",
   "metadata": {},
   "outputs": [],
   "source": [
    "# 1 2 5 10 20 50 100 200\n",
    "\n",
    "# idea:\n",
    "# f(1-200,1-8) --> f(200,8)\n",
    "# f(i,j) = summa(k:k*j<=200)summa(j) f(i-j,j-1)\n",
    "# f(0,j)=1, f(i,0)=0/1"
   ]
  },
  {
   "cell_type": "code",
   "execution_count": 85,
   "id": "00ea5fc2",
   "metadata": {},
   "outputs": [],
   "source": [
    "import numpy as np"
   ]
  },
  {
   "cell_type": "code",
   "execution_count": 86,
   "id": "176a42ab",
   "metadata": {},
   "outputs": [],
   "source": [
    "# N: sum to reach\n",
    "N = 200\n",
    "\n",
    "# K: 2d array to save f(i,j)\n",
    "K = [[-1]*8 for i in range(201)]\n",
    "K[0]=[1]*8\n",
    "for i in range(1,201):\n",
    "    K[i][0]=1\n",
    "    \n",
    "# E: possible coins\n",
    "E = [1, 2, 5, 10, 20, 50, 100, 200]"
   ]
  },
  {
   "cell_type": "code",
   "execution_count": 87,
   "id": "bb417238",
   "metadata": {},
   "outputs": [],
   "source": [
    "def write_f(i,j,K,E,N):\n",
    "    if K[i][j] == -1:\n",
    "        S = 0\n",
    "        for l in range(0,int(np.floor(N/E[j]))+1):\n",
    "            if l*E[j] <= i:\n",
    "                S = S + K[i-l*E[j]][j-1]    \n",
    "        K[i][j] = S        "
   ]
  },
  {
   "cell_type": "code",
   "execution_count": 88,
   "id": "5ba3c1a1",
   "metadata": {},
   "outputs": [],
   "source": [
    "for i in range(1,N+1):\n",
    "    for j in range(1,len(E)):\n",
    "        write_f(i,j,K,E,N)\n",
    "\n",
    "#write_f(1,1,K,E,N)"
   ]
  },
  {
   "cell_type": "code",
   "execution_count": 89,
   "id": "717ccf83",
   "metadata": {},
   "outputs": [
    {
     "data": {
      "text/plain": [
       "73682"
      ]
     },
     "execution_count": 89,
     "metadata": {},
     "output_type": "execute_result"
    }
   ],
   "source": [
    "# solution for problem 32\n",
    "\n",
    "K[N][7]"
   ]
  },
  {
   "cell_type": "code",
   "execution_count": null,
   "id": "d9c055ac",
   "metadata": {},
   "outputs": [],
   "source": []
  }
 ],
 "metadata": {
  "kernelspec": {
   "display_name": "Python 3",
   "language": "python",
   "name": "python3"
  },
  "language_info": {
   "codemirror_mode": {
    "name": "ipython",
    "version": 3
   },
   "file_extension": ".py",
   "mimetype": "text/x-python",
   "name": "python",
   "nbconvert_exporter": "python",
   "pygments_lexer": "ipython3",
   "version": "3.7.10"
  }
 },
 "nbformat": 4,
 "nbformat_minor": 5
}
