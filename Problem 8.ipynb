{
 "cells": [
  {
   "cell_type": "code",
   "execution_count": 52,
   "id": "147d9cd7",
   "metadata": {},
   "outputs": [],
   "source": [
    "import numpy as np\n",
    "from math import log"
   ]
  },
  {
   "cell_type": "code",
   "execution_count": 32,
   "id": "19951262",
   "metadata": {},
   "outputs": [],
   "source": [
    "N_string = \"7316717653133062491922511967442657474235534919493496983520312774506326239578318016984801869478851843858615607891129494954595017379583319528532088055111254069874715852386305071569329096329522744304355766896648950445244523161731856403098711121722383113622298934233803081353362766142828064444866452387493035890729629049156044077239071381051585930796086670172427121883998797908792274921901699720888093776657273330010533678812202354218097512545405947522435258490771167055601360483958644670632441572215539753697817977846174064955149290862569321978468622482839722413756570560574902614079729686524145351004748216637048440319989000889524345065854122758866688116427171479924442928230863465674813919123162824586178664583591245665294765456828489128831426076900422421902267105562632111110937054421750694165896040807198403850962455444362981230987879927244284909188845801561660979191338754992005240636899125607176060588611646710940507754100225698315520005593572972571636269561882670428252483600823257530420752963450\""
   ]
  },
  {
   "cell_type": "code",
   "execution_count": 62,
   "id": "1ab05c4c",
   "metadata": {},
   "outputs": [
    {
     "ename": "NameError",
     "evalue": "name 'long' is not defined",
     "output_type": "error",
     "traceback": [
      "\u001b[1;31m---------------------------------------------------------------------------\u001b[0m",
      "\u001b[1;31mNameError\u001b[0m                                 Traceback (most recent call last)",
      "\u001b[1;32m<ipython-input-62-7f88cbcabecf>\u001b[0m in \u001b[0;36m<module>\u001b[1;34m\u001b[0m\n\u001b[0;32m      1\u001b[0m \u001b[0ma\u001b[0m \u001b[1;33m=\u001b[0m\u001b[1;36m77\u001b[0m\u001b[1;33m\u001b[0m\u001b[1;33m\u001b[0m\u001b[0m\n\u001b[1;32m----> 2\u001b[1;33m \u001b[0mlong\u001b[0m\u001b[1;33m(\u001b[0m\u001b[0ma\u001b[0m\u001b[1;33m)\u001b[0m\u001b[1;33m\u001b[0m\u001b[1;33m\u001b[0m\u001b[0m\n\u001b[0m",
      "\u001b[1;31mNameError\u001b[0m: name 'long' is not defined"
     ]
    }
   ],
   "source": [
    "a =77\n",
    "long(a)"
   ]
  },
  {
   "cell_type": "code",
   "execution_count": 59,
   "id": "74daa9bb",
   "metadata": {},
   "outputs": [],
   "source": [
    "product_max = 1\n",
    "product_array = []\n",
    "for i in range(1,14):\n",
    "    int_act = int(N_string[i])\n",
    "    product_array.append(int_act)\n",
    "    product_max = max(product_max, np.prod(product_array))"
   ]
  },
  {
   "cell_type": "code",
   "execution_count": 60,
   "id": "db78a287",
   "metadata": {},
   "outputs": [
    {
     "name": "stdout",
     "output_type": "stream",
     "text": [
      "[6, 2, 4, 9, 1, 9, 2, 2, 5, 1, 1, 9, 6]\n",
      "4199040\n",
      "26\n",
      "[2, 4, 9, 1, 9, 2, 2, 5, 1, 1, 9, 6, 7]\n",
      "4898880\n",
      "27\n",
      "[4, 9, 1, 9, 2, 2, 5, 1, 1, 9, 6, 7, 4]\n",
      "9797760\n",
      "28\n",
      "[9, 2, 2, 5, 1, 1, 9, 6, 7, 4, 4, 2, 6]\n",
      "13063680\n",
      "31\n",
      "[2, 5, 1, 1, 9, 6, 7, 4, 4, 2, 6, 5, 7]\n",
      "25401600\n",
      "33\n",
      "[5, 1, 1, 9, 6, 7, 4, 4, 2, 6, 5, 7, 4]\n",
      "50803200\n",
      "34\n",
      "[1, 1, 9, 6, 7, 4, 4, 2, 6, 5, 7, 4, 7]\n",
      "71124480\n",
      "35\n",
      "[1, 9, 6, 7, 4, 4, 2, 6, 5, 7, 4, 7, 4]\n",
      "284497920\n",
      "36\n",
      "[9, 6, 7, 4, 4, 2, 6, 5, 7, 4, 7, 4, 2]\n",
      "568995840\n",
      "37\n",
      "[5, 3, 4, 9, 1, 9, 4, 9, 3, 4, 9, 6, 9]\n",
      "1020366720\n",
      "52\n",
      "[3, 4, 9, 1, 9, 4, 9, 3, 4, 9, 6, 9, 8]\n",
      "1632586752\n",
      "53\n",
      "[9, 1, 9, 4, 9, 3, 4, 9, 6, 9, 8, 3, 5]\n",
      "2040733440\n",
      "55\n",
      "[9, 7, 8, 1, 7, 9, 7, 7, 8, 4, 6, 1, 7]\n",
      "2091059712\n",
      "515\n"
     ]
    }
   ],
   "source": [
    "for i in range(14,1000):\n",
    "    int_act = int(N_string[i])\n",
    "    product_array.append(int_act)\n",
    "    product_array.pop(0)\n",
    "    ##product_max = max(product_max, np.prod(product_array))\n",
    "    if np.prod(product_array) > product_max:\n",
    "        product_max = max(product_max, np.prod(product_array))\n",
    "        print(product_array)\n",
    "        print(product_max)\n",
    "        print(i)"
   ]
  },
  {
   "cell_type": "code",
   "execution_count": 64,
   "id": "10d3ce4a",
   "metadata": {},
   "outputs": [
    {
     "data": {
      "text/plain": [
       "[9, 7, 8, 1, 7, 9, 7, 7, 8, 4, 6, 1, 7]"
      ]
     },
     "execution_count": 64,
     "metadata": {},
     "output_type": "execute_result"
    }
   ],
   "source": [
    "[9, 7, 8, 1, 7, 9, 7, 7, 8, 4, 6, 1, 7]"
   ]
  }
 ],
 "metadata": {
  "kernelspec": {
   "display_name": "Python 3",
   "language": "python",
   "name": "python3"
  },
  "language_info": {
   "codemirror_mode": {
    "name": "ipython",
    "version": 3
   },
   "file_extension": ".py",
   "mimetype": "text/x-python",
   "name": "python",
   "nbconvert_exporter": "python",
   "pygments_lexer": "ipython3",
   "version": "3.7.10"
  }
 },
 "nbformat": 4,
 "nbformat_minor": 5
}
