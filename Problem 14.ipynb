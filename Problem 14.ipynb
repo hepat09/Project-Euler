{
 "cells": [
  {
   "cell_type": "code",
   "execution_count": 22,
   "id": "159caba2",
   "metadata": {},
   "outputs": [],
   "source": [
    "def next_item(n):\n",
    "    if n%2==0:\n",
    "        return n/2\n",
    "    else:\n",
    "        return n*3+1\n",
    "    \n",
    "def Collatz_length(n):\n",
    "    count = 1\n",
    "    while(n != 1):\n",
    "        n = next_item(n)\n",
    "        count += 1\n",
    "    return count"
   ]
  },
  {
   "cell_type": "code",
   "execution_count": 30,
   "id": "2beba3f1",
   "metadata": {},
   "outputs": [
    {
     "name": "stdout",
     "output_type": "stream",
     "text": [
      "837799\n"
     ]
    }
   ],
   "source": [
    "max_ind = 1\n",
    "max_val = 1\n",
    "\n",
    "for i in range(1,1000000):\n",
    "    d = Collatz_length(i)\n",
    "    #print(d)\n",
    "    #print(i)\n",
    "    if max_val < d:\n",
    "        max_ind = i\n",
    "        max_val = d\n",
    "\n",
    "print (max_ind)"
   ]
  },
  {
   "cell_type": "code",
   "execution_count": null,
   "id": "78b37df0",
   "metadata": {},
   "outputs": [],
   "source": []
  },
  {
   "cell_type": "code",
   "execution_count": null,
   "id": "bef83c73",
   "metadata": {},
   "outputs": [],
   "source": []
  }
 ],
 "metadata": {
  "kernelspec": {
   "display_name": "Python 3",
   "language": "python",
   "name": "python3"
  },
  "language_info": {
   "codemirror_mode": {
    "name": "ipython",
    "version": 3
   },
   "file_extension": ".py",
   "mimetype": "text/x-python",
   "name": "python",
   "nbconvert_exporter": "python",
   "pygments_lexer": "ipython3",
   "version": "3.7.10"
  }
 },
 "nbformat": 4,
 "nbformat_minor": 5
}
