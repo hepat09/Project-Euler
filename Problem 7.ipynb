{
 "cells": [
  {
   "cell_type": "code",
   "execution_count": 21,
   "id": "c91e3d5e",
   "metadata": {},
   "outputs": [
    {
     "name": "stdout",
     "output_type": "stream",
     "text": [
      "104743\n"
     ]
    }
   ],
   "source": [
    "import math\n",
    "\n",
    "def prime_check(div_list, n):\n",
    "    for d in div_list:\n",
    "        if(n % d ==0):\n",
    "            return False\n",
    "    return True\n",
    "\n",
    "primes = [2,3,5,7,11,13,17,19]\n",
    "N = 21\n",
    "while(len(primes) < 10001):\n",
    "    N += 2\n",
    "    if prime_check(primes, N):\n",
    "        primes.append(N)\n",
    "        \n",
    "print(primes[-1])"
   ]
  },
  {
   "cell_type": "code",
   "execution_count": null,
   "id": "bcbcd0db",
   "metadata": {},
   "outputs": [],
   "source": []
  }
 ],
 "metadata": {
  "kernelspec": {
   "display_name": "Python 3",
   "language": "python",
   "name": "python3"
  },
  "language_info": {
   "codemirror_mode": {
    "name": "ipython",
    "version": 3
   },
   "file_extension": ".py",
   "mimetype": "text/x-python",
   "name": "python",
   "nbconvert_exporter": "python",
   "pygments_lexer": "ipython3",
   "version": "3.7.10"
  }
 },
 "nbformat": 4,
 "nbformat_minor": 5
}
