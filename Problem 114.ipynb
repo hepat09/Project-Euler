{
 "cells": [
  {
   "cell_type": "code",
   "execution_count": null,
   "id": "5cd4ee4a",
   "metadata": {},
   "outputs": [],
   "source": [
    "# n th is red vs grey\n",
    "# if grey : f(n-1)\n",
    "# if red: f(n-4)+f(n-5)+....+f(1)+f(0)"
   ]
  },
  {
   "cell_type": "code",
   "execution_count": 27,
   "id": "a21b0ccc",
   "metadata": {},
   "outputs": [],
   "source": [
    "from timeit import default_timer as timer"
   ]
  },
  {
   "cell_type": "code",
   "execution_count": 30,
   "id": "ef064187",
   "metadata": {},
   "outputs": [
    {
     "data": {
      "text/plain": [
       "16475640049"
      ]
     },
     "execution_count": 30,
     "metadata": {},
     "output_type": "execute_result"
    }
   ],
   "source": [
    "K = [1,1,1,2]\n",
    "N=50\n",
    "\n",
    "while len(K)<N+1:\n",
    "    K.append(K[-1]+1+sum(K[:-3]))\n",
    "    \n",
    "K[-1]"
   ]
  },
  {
   "cell_type": "code",
   "execution_count": null,
   "id": "2badb375",
   "metadata": {},
   "outputs": [],
   "source": []
  }
 ],
 "metadata": {
  "kernelspec": {
   "display_name": "Python 3",
   "language": "python",
   "name": "python3"
  },
  "language_info": {
   "codemirror_mode": {
    "name": "ipython",
    "version": 3
   },
   "file_extension": ".py",
   "mimetype": "text/x-python",
   "name": "python",
   "nbconvert_exporter": "python",
   "pygments_lexer": "ipython3",
   "version": "3.7.10"
  }
 },
 "nbformat": 4,
 "nbformat_minor": 5
}
