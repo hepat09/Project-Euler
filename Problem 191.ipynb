{
 "cells": [
  {
   "cell_type": "code",
   "execution_count": null,
   "id": "c348d957",
   "metadata": {},
   "outputs": [],
   "source": [
    "# zero L & one L\n",
    "# last 0/1/2 A\n",
    "# and the 6 section"
   ]
  },
  {
   "cell_type": "code",
   "execution_count": 30,
   "id": "d3320dd7",
   "metadata": {},
   "outputs": [],
   "source": [
    "zero_L_last_A0 =[1]\n",
    "zero_L_last_A1 =[1]\n",
    "zero_L_last_A2 =[0]\n",
    "one_L_last_A0 =[1]\n",
    "one_L_last_A1 =[0]\n",
    "one_L_last_A2 =[0]\n",
    "\n",
    "for i in range(1,30):\n",
    "    zero_L_last_A0_tmp = list(zero_L_last_A0)\n",
    "    zero_L_last_A1_tmp = list(zero_L_last_A1)\n",
    "    zero_L_last_A2_tmp = list(zero_L_last_A2)\n",
    "    one_L_last_A0_tmp = list(one_L_last_A0)\n",
    "    one_L_last_A1_tmp = list(one_L_last_A1)\n",
    "    one_L_last_A2_tmp = list(one_L_last_A2)\n",
    "    \n",
    "    zero_L_last_A0.append(zero_L_last_A0_tmp[-1]+zero_L_last_A1_tmp[-1]+zero_L_last_A2_tmp[-1])\n",
    "    zero_L_last_A1.append(zero_L_last_A0_tmp[-1])\n",
    "    zero_L_last_A2.append(zero_L_last_A1_tmp[-1])\n",
    "    one_L_last_A0.append(one_L_last_A0_tmp[-1]+zero_L_last_A0_tmp[-1]+zero_L_last_A1_tmp[-1]+zero_L_last_A2_tmp[-1]+one_L_last_A1_tmp[-1]+one_L_last_A2_tmp[-1])\n",
    "    one_L_last_A1.append(one_L_last_A0_tmp[-1])\n",
    "    one_L_last_A2.append(one_L_last_A1_tmp[-1])"
   ]
  },
  {
   "cell_type": "code",
   "execution_count": 31,
   "id": "7a1a5403",
   "metadata": {},
   "outputs": [],
   "source": [
    "S= [0 for i in range(30)]\n",
    "for i in range(30):\n",
    "    S[i]=zero_L_last_A0[i]+zero_L_last_A1[i]+zero_L_last_A2[i]+one_L_last_A0[i]+one_L_last_A1[i]+one_L_last_A2[i]"
   ]
  },
  {
   "cell_type": "code",
   "execution_count": 37,
   "id": "d64496ca",
   "metadata": {},
   "outputs": [
    {
     "data": {
      "text/plain": [
       "1918080160"
      ]
     },
     "execution_count": 37,
     "metadata": {},
     "output_type": "execute_result"
    }
   ],
   "source": [
    "S[29]"
   ]
  }
 ],
 "metadata": {
  "kernelspec": {
   "display_name": "Python 3",
   "language": "python",
   "name": "python3"
  },
  "language_info": {
   "codemirror_mode": {
    "name": "ipython",
    "version": 3
   },
   "file_extension": ".py",
   "mimetype": "text/x-python",
   "name": "python",
   "nbconvert_exporter": "python",
   "pygments_lexer": "ipython3",
   "version": "3.7.10"
  }
 },
 "nbformat": 4,
 "nbformat_minor": 5
}
